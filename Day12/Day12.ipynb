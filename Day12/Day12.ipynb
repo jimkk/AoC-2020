{
 "cells": [
  {
   "cell_type": "code",
   "execution_count": 37,
   "metadata": {},
   "outputs": [],
   "source": [
    "import math\n",
    "import numpy as np"
   ]
  },
  {
   "cell_type": "markdown",
   "metadata": {},
   "source": [
    "# Day 12"
   ]
  },
  {
   "cell_type": "code",
   "execution_count": 93,
   "metadata": {},
   "outputs": [
    {
     "data": {
      "text/plain": [
       "['F47', 'W2', 'S5', 'R180', 'R90']"
      ]
     },
     "execution_count": 93,
     "metadata": {},
     "output_type": "execute_result"
    }
   ],
   "source": [
    "with open('input.txt', 'r') as file:\n",
    "    data = file.readlines()\n",
    "data = [a.strip('\\n') for a in data]\n",
    "data[:5]"
   ]
  },
  {
   "cell_type": "markdown",
   "metadata": {},
   "source": [
    "## Part 1"
   ]
  },
  {
   "cell_type": "code",
   "execution_count": 104,
   "metadata": {},
   "outputs": [],
   "source": [
    "def rotate(p, d):\n",
    "    d = math.radians(d)\n",
    "    new_x = math.cos(d) * p[0] - math.sin(d) * p[1]\n",
    "    new_y = math.sin(d) * p[0] + math.cos(d) * p[1]\n",
    "    new_x = int(round(new_x))\n",
    "    new_y = int(round(new_y))\n",
    "    return np.array([new_x, new_y])"
   ]
  },
  {
   "cell_type": "code",
   "execution_count": 105,
   "metadata": {},
   "outputs": [
    {
     "name": "stdout",
     "output_type": "stream",
     "text": [
      "[502 -60]\n",
      "562\n"
     ]
    }
   ],
   "source": [
    "d = np.array([1,0])\n",
    "l = np.array([0,0])\n",
    "for move in data:\n",
    "#     print(l, d)\n",
    "#     print(move)\n",
    "    if move[0] == 'N':\n",
    "        l[1] += int(move[1:])\n",
    "    elif move[0] == 'S':\n",
    "        l[1] -= int(move[1:])\n",
    "    elif move[0] == 'E':\n",
    "        l[0] += int(move[1:])\n",
    "    elif move[0] == 'W':\n",
    "        l[0] -= int(move[1:])\n",
    "    elif move[0] == 'L':\n",
    "        d = rotate(d, int(move[1:]))\n",
    "    elif move[0] == 'R':\n",
    "        d = rotate(d, -int(move[1:]))\n",
    "    elif move[0] == 'F':\n",
    "        l += d * int(move[1:])\n",
    "print(l)\n",
    "print(sum([abs(a) for a in l]))"
   ]
  },
  {
   "cell_type": "markdown",
   "metadata": {},
   "source": [
    "## Part 2"
   ]
  },
  {
   "cell_type": "code",
   "execution_count": 107,
   "metadata": {},
   "outputs": [
    {
     "name": "stdout",
     "output_type": "stream",
     "text": [
      "[46871 54989]\n",
      "101860\n"
     ]
    }
   ],
   "source": [
    "d = np.array([10,1])\n",
    "l = np.array([0,0])\n",
    "for move in data:\n",
    "#     print(l, d)\n",
    "#     print(move)\n",
    "    if move[0] == 'N':\n",
    "        d[1] += int(move[1:])\n",
    "    elif move[0] == 'S':\n",
    "        d[1] -= int(move[1:])\n",
    "    elif move[0] == 'E':\n",
    "        d[0] += int(move[1:])\n",
    "    elif move[0] == 'W':\n",
    "        d[0] -= int(move[1:])\n",
    "    elif move[0] == 'L':\n",
    "        d = rotate(d, int(move[1:]))\n",
    "    elif move[0] == 'R':\n",
    "        d = rotate(d, -int(move[1:]))\n",
    "    elif move[0] == 'F':\n",
    "        l += d * int(move[1:])\n",
    "print(l)\n",
    "print(sum([abs(a) for a in l]))"
   ]
  }
 ],
 "metadata": {
  "kernelspec": {
   "display_name": "Python 3",
   "language": "python",
   "name": "python3"
  },
  "language_info": {
   "codemirror_mode": {
    "name": "ipython",
    "version": 3
   },
   "file_extension": ".py",
   "mimetype": "text/x-python",
   "name": "python",
   "nbconvert_exporter": "python",
   "pygments_lexer": "ipython3",
   "version": "3.6.7"
  }
 },
 "nbformat": 4,
 "nbformat_minor": 2
}
