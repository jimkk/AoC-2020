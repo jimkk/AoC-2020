{
 "metadata": {
  "language_info": {
   "codemirror_mode": {
    "name": "ipython",
    "version": 3
   },
   "file_extension": ".py",
   "mimetype": "text/x-python",
   "name": "python",
   "nbconvert_exporter": "python",
   "pygments_lexer": "ipython3",
   "version": "3.6.8-final"
  },
  "orig_nbformat": 2,
  "kernelspec": {
   "name": "python3",
   "display_name": "Python 3"
  }
 },
 "nbformat": 4,
 "nbformat_minor": 2,
 "cells": [
  {
   "cell_type": "code",
   "execution_count": 426,
   "metadata": {},
   "outputs": [],
   "source": [
    "import re\n",
    "import networkx as nx\n",
    "import matplotlib.pyplot as plt\n",
    "import operator\n",
    "from functools import reduce\n",
    "from networkx.algorithms.shortest_paths.weighted import single_source_dijkstra"
   ]
  },
  {
   "cell_type": "code",
   "execution_count": 427,
   "metadata": {},
   "outputs": [],
   "source": [
    "with open('input.txt', 'r') as file:\n",
    "    data = file.readlines()\n",
    "data = [a.replace('bags', 'bag') for a in data]\n",
    "\n",
    "G = nx.DiGraph()"
   ]
  },
  {
   "cell_type": "code",
   "execution_count": 428,
   "metadata": {},
   "outputs": [
    {
     "output_type": "stream",
     "name": "stdout",
     "text": [
      "['vibrant salmon bag', [('1', 'vibrant gold bag'), ('2', 'wavy aqua bag'), ('1', 'dotted crimson bag')]]\n"
     ]
    }
   ],
   "source": [
    "data = [[re.findall(r'([\\w ]+) contain', a)[0], re.findall(r'([0-9]) ([\\w ]+)', a)] for a in data]\n",
    "print(data[0])"
   ]
  },
  {
   "cell_type": "code",
   "execution_count": 429,
   "metadata": {
    "tags": []
   },
   "outputs": [],
   "source": [
    "for a in data:\n",
    "    for b in a[1]:\n",
    "        G.add_edge(a[0], b[1], weight=int(b[0]))"
   ]
  },
  {
   "cell_type": "code",
   "execution_count": 430,
   "metadata": {
    "tags": []
   },
   "outputs": [],
   "source": [
    "nodes = []\n",
    "for n in G.nodes:\n",
    "    path = list(nx.all_simple_paths(G, n, 'shiny gold bag'))\n",
    "    if(len(path)): nodes.append(path[0][-1])\n"
   ]
  },
  {
   "cell_type": "code",
   "execution_count": 431,
   "metadata": {},
   "outputs": [
    {
     "output_type": "stream",
     "name": "stdout",
     "text": [
      "272\n"
     ]
    }
   ],
   "source": [
    "print(len(nodes))"
   ]
  },
  {
   "cell_type": "code",
   "execution_count": 434,
   "metadata": {
    "tags": []
   },
   "outputs": [],
   "source": [
    "end_nodes = [x for x in G.nodes if G.in_degree(x) == 0]\n",
    "paths_to_end = []\n",
    "for n in end_nodes:\n",
    "    paths = list(nx.all_simple_paths(G, n, 'shiny gold bag'))\n",
    "    if len(paths): paths_to_end.append(paths)\n",
    "paths_to_end = [paths for a in paths_to_end for paths in a]"
   ]
  },
  {
   "cell_type": "code",
   "execution_count": 435,
   "metadata": {},
   "outputs": [],
   "source": [
    "def path_cost(G, path):\n",
    "        p = [G[path[i]][path[i+1]]['weight'] for i in range(len(path)-1)]\n",
    "        print(p)\n",
    "        total_cost = 0\n",
    "        for i in range(len(p)):\n",
    "            if (i < len(p) -1 ):\n",
    "                total_cost += p[i] * p[i+1]\n",
    "            else:\n",
    "                total_cost += p[i]\n",
    "        return total_cost"
   ]
  },
  {
   "cell_type": "code",
   "execution_count": 436,
   "metadata": {},
   "outputs": [],
   "source": [
    "def cost(G, n, m):\n",
    "    if len(list(nx.neighbors(G, n))) == 0:\n",
    "        return m\n",
    "    t = sum([cost(G, ne[1], G[n][ne[1]]['weight']) for ne in G.edges(n)]) * m + m\n",
    "    return t"
   ]
  },
  {
   "cell_type": "code",
   "execution_count": 437,
   "metadata": {},
   "outputs": [
    {
     "output_type": "execute_result",
     "data": {
      "text/plain": [
       "172246"
      ]
     },
     "metadata": {},
     "execution_count": 437
    }
   ],
   "source": [
    "cost(G, 'shiny gold bag', 1) -1"
   ]
  },
  {
   "cell_type": "code",
   "execution_count": null,
   "metadata": {},
   "outputs": [],
   "source": []
  }
 ]
}