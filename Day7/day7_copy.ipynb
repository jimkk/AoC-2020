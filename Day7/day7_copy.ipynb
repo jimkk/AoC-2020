{
 "metadata": {
  "language_info": {
   "codemirror_mode": {
    "name": "ipython",
    "version": 3
   },
   "file_extension": ".py",
   "mimetype": "text/x-python",
   "name": "python",
   "nbconvert_exporter": "python",
   "pygments_lexer": "ipython3",
   "version": "3.6.8-final"
  },
  "orig_nbformat": 2,
  "kernelspec": {
   "name": "python3",
   "display_name": "Python 3"
  }
 },
 "nbformat": 4,
 "nbformat_minor": 2,
 "cells": [
  {
   "cell_type": "code",
   "execution_count": 80,
   "metadata": {},
   "outputs": [],
   "source": [
    "import re\n",
    "import networkx as nx\n",
    "import matplotlib.pyplot as plt\n",
    "from networkx.algorithms.shortest_paths.weighted import single_source_dijkstra"
   ]
  },
  {
   "cell_type": "code",
   "execution_count": 69,
   "metadata": {},
   "outputs": [],
   "source": [
    "with open('test_input.txt', 'r') as file:\n",
    "    data = file.readlines()\n",
    "data = [a.replace('bags', 'bag') for a in data]\n",
    "\n",
    "G = nx.DiGraph()"
   ]
  },
  {
   "cell_type": "code",
   "execution_count": 70,
   "metadata": {},
   "outputs": [
    {
     "output_type": "stream",
     "name": "stdout",
     "text": [
      "['light red bag', [('1', 'bright white bag'), ('2', 'muted yellow bag')]]\n"
     ]
    }
   ],
   "source": [
    "data = [[re.findall(r'([\\w ]+) contain', a)[0], re.findall(r'([0-9]) ([\\w ]+)', a)] for a in data]\n",
    "print(data[0])"
   ]
  },
  {
   "cell_type": "code",
   "execution_count": 100,
   "metadata": {
    "tags": []
   },
   "outputs": [],
   "source": [
    "for a in data:\n",
    "    for b in a[1]:\n",
    "        G.add_edge(b[1], a[0], weight=int(b[0]))"
   ]
  },
  {
   "cell_type": "code",
   "execution_count": 101,
   "metadata": {
    "tags": []
   },
   "outputs": [],
   "source": [
    "nodes = []\n",
    "for n in G.nodes:\n",
    "    path = list(nx.all_simple_paths(G, 'shiny gold bag', n))\n",
    "    if(len(path)): nodes.append(path[0][-1])\n"
   ]
  },
  {
   "cell_type": "code",
   "execution_count": 102,
   "metadata": {},
   "outputs": [
    {
     "output_type": "stream",
     "name": "stdout",
     "text": [
      "4\n"
     ]
    }
   ],
   "source": [
    "print(len(nodes))"
   ]
  },
  {
   "cell_type": "code",
   "execution_count": 105,
   "metadata": {},
   "outputs": [
    {
     "output_type": "stream",
     "name": "stdout",
     "text": [
      "[['faded blue bag', 'dark olive bag', 'shiny gold bag'], ['faded blue bag', 'vibrant plum bag', 'shiny gold bag']] \n\n\n[['dark olive bag', 'shiny gold bag']] \n\n\n[['vibrant plum bag', 'shiny gold bag']] \n\n\n[['dotted black bag', 'dark olive bag', 'shiny gold bag'], ['dotted black bag', 'vibrant plum bag', 'shiny gold bag']] \n\n\n"
     ]
    }
   ],
   "source": [
    "# plt.subplot(111)\n",
    "# nx.draw(G, with_labels=True, font_weight='bold')\n",
    "for n in G.nodes:\n",
    "    paths = list(nx.all_simple_paths(G, n, 'shiny gold bag'))\n",
    "    if len(paths): print(paths, '\\n\\n')"
   ]
  },
  {
   "cell_type": "code",
   "execution_count": 104,
   "metadata": {},
   "outputs": [
    {
     "output_type": "execute_result",
     "data": {
      "text/plain": [
       "(4, ['faded blue bag', 'dark olive bag', 'shiny gold bag'])"
      ]
     },
     "metadata": {},
     "execution_count": 104
    }
   ],
   "source": [
    "single_source_dijkstra(G, 'faded blue bag', 'shiny gold bag')"
   ]
  },
  {
   "cell_type": "code",
   "execution_count": 109,
   "metadata": {},
   "outputs": [
    {
     "output_type": "stream",
     "name": "stdout",
     "text": [
      "[['faded blue bag', 'dark olive bag', 'shiny gold bag'], ['faded blue bag', 'vibrant plum bag', 'shiny gold bag']] \n\n\n[['dotted black bag', 'dark olive bag', 'shiny gold bag'], ['dotted black bag', 'vibrant plum bag', 'shiny gold bag']] \n\n\n"
     ]
    }
   ],
   "source": [
    "end_nodes = [x for x in G.nodes if G.in_degree(x) == 0]\n",
    "for n in end_nodes:\n",
    "    paths = list(nx.all_simple_paths(G, n, 'shiny gold bag'))\n",
    "    if len(paths): print(paths, '\\n\\n')"
   ]
  },
  {
   "cell_type": "code",
   "execution_count": null,
   "metadata": {},
   "outputs": [],
   "source": []
  }
 ]
}