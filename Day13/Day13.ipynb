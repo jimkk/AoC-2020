{
 "cells": [
  {
   "cell_type": "code",
   "execution_count": 40,
   "metadata": {},
   "outputs": [],
   "source": [
    "import numpy as np\n",
    "import math\n",
    "from functools import reduce"
   ]
  },
  {
   "cell_type": "markdown",
   "metadata": {},
   "source": [
    "# Day 13"
   ]
  },
  {
   "cell_type": "code",
   "execution_count": 41,
   "metadata": {},
   "outputs": [
    {
     "name": "stdout",
     "output_type": "stream",
     "text": [
      "1000510\n",
      "[19, 0, 0, 0, 0]\n"
     ]
    }
   ],
   "source": [
    "with open('input.txt', 'r') as file:\n",
    "    data = file.readlines()\n",
    "data = [a.strip('\\n') for a in data]\n",
    "start_time = int(data[0])\n",
    "buses = [a for a in data[1].split(',')]\n",
    "for i, bus in enumerate(buses):\n",
    "    if bus == 'x':\n",
    "        buses[i] = 0\n",
    "    else:\n",
    "        buses[i] = int(bus)\n",
    "print(start_time)\n",
    "print(buses[:5])"
   ]
  },
  {
   "cell_type": "markdown",
   "metadata": {},
   "source": [
    "## Part 1"
   ]
  },
  {
   "cell_type": "code",
   "execution_count": 42,
   "metadata": {},
   "outputs": [],
   "source": [
    "times = np.array([start_time]*len(buses))\n",
    "\n",
    "for i, bus in enumerate(buses):\n",
    "    if bus > 0:\n",
    "        times[i] = bus - start_time % bus\n",
    "        "
   ]
  },
  {
   "cell_type": "code",
   "execution_count": 43,
   "metadata": {},
   "outputs": [
    {
     "name": "stdout",
     "output_type": "stream",
     "text": [
      "259\n"
     ]
    }
   ],
   "source": [
    "print(min(times) * int(buses[np.argmin(times)]))"
   ]
  },
  {
   "cell_type": "markdown",
   "metadata": {},
   "source": [
    "## Part 2"
   ]
  },
  {
   "cell_type": "code",
   "execution_count": 48,
   "metadata": {},
   "outputs": [
    {
     "name": "stdout",
     "output_type": "stream",
     "text": [
      "210612924879242\n",
      "CPU times: user 1.01 ms, sys: 0 ns, total: 1.01 ms\n",
      "Wall time: 943 µs\n"
     ]
    }
   ],
   "source": [
    "%%time\n",
    "loop_amount = buses[0]\n",
    "start_amount = 0\n",
    "for i, bus in enumerate(buses[1:]):\n",
    "    if(bus > 0):\n",
    "        j = start_amount\n",
    "        found = False\n",
    "        while not found:\n",
    "            if (j + i+1)  % bus == 0:\n",
    "                if(i < len(buses)-2):\n",
    "                    loop_amount = math.lcm(loop_amount, bus)\n",
    "                    start_amount = j\n",
    "                found = True\n",
    "            else:\n",
    "                j += loop_amount\n",
    "print(j)"
   ]
  },
  {
   "cell_type": "code",
   "execution_count": null,
   "metadata": {},
   "outputs": [],
   "source": []
  }
 ],
 "metadata": {
  "kernelspec": {
   "display_name": "Python 3",
   "language": "python",
   "name": "python3"
  },
  "language_info": {
   "codemirror_mode": {
    "name": "ipython",
    "version": 3
   },
   "file_extension": ".py",
   "mimetype": "text/x-python",
   "name": "python",
   "nbconvert_exporter": "python",
   "pygments_lexer": "ipython3",
   "version": "3.9.1"
  }
 },
 "nbformat": 4,
 "nbformat_minor": 4
}
