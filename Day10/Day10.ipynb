{
 "cells": [
  {
   "cell_type": "code",
   "execution_count": 142,
   "metadata": {},
   "outputs": [],
   "source": [
    "import operator\n",
    "from functools import reduce"
   ]
  },
  {
   "cell_type": "markdown",
   "metadata": {},
   "source": [
    "# Day 10"
   ]
  },
  {
   "cell_type": "code",
   "execution_count": 453,
   "metadata": {},
   "outputs": [
    {
     "data": {
      "text/plain": [
       "[0, 1, 2, 5, 6]"
      ]
     },
     "execution_count": 453,
     "metadata": {},
     "output_type": "execute_result"
    }
   ],
   "source": [
    "with open('input.txt', 'r') as file:\n",
    "    data = file.readlines()\n",
    "data = [int(a.strip('\\n')) for a in data]\n",
    "data.append(max(data) + 3)\n",
    "data.append(0)\n",
    "data.sort()\n",
    "data[:5]"
   ]
  },
  {
   "cell_type": "markdown",
   "metadata": {},
   "source": [
    "## Part 1"
   ]
  },
  {
   "cell_type": "code",
   "execution_count": 42,
   "metadata": {},
   "outputs": [
    {
     "name": "stdout",
     "output_type": "stream",
     "text": [
      "[22, 0, 10]\n",
      "Part 1: 220\n"
     ]
    }
   ],
   "source": [
    "input_joltage = 0\n",
    "differences = [0,0,0]\n",
    "for a in data:\n",
    "    if a == 0:\n",
    "        continue\n",
    "    if a - input_joltage > 3 or a == input_joltage:\n",
    "        print('error. joltage too high of gap')\n",
    "        break\n",
    "    differences[a - input_joltage - 1] += 1\n",
    "    input_joltage = a\n",
    "print(differences)\n",
    "print('Part 1:', differences[0] * differences[2])"
   ]
  },
  {
   "cell_type": "markdown",
   "metadata": {},
   "source": [
    "## Part 2"
   ]
  },
  {
   "cell_type": "code",
   "execution_count": 459,
   "metadata": {},
   "outputs": [],
   "source": [
    "def find_arrangements(l):\n",
    "    if len(l) == 1:\n",
    "        return 1\n",
    "    head = l[0]\n",
    "    arrs = 0\n",
    "    for i in range(1, len(l)):\n",
    "        if l[i] - head <= 3:\n",
    "            t = find_arrangements(l[i:])\n",
    "            arrs += t\n",
    "        else:\n",
    "            break\n",
    "    return arrs"
   ]
  },
  {
   "cell_type": "code",
   "execution_count": 460,
   "metadata": {},
   "outputs": [
    {
     "data": {
      "text/plain": [
       "113387824750592"
      ]
     },
     "execution_count": 460,
     "metadata": {},
     "output_type": "execute_result"
    }
   ],
   "source": [
    "groups = []\n",
    "i = 0\n",
    "while i < len(data)-2:\n",
    "    group = [data[i]]\n",
    "    for j in range(i+1, len(data)-1):\n",
    "        if data[j+1] - data[j-1] <= 3:\n",
    "            group.append(data[j])\n",
    "        else:\n",
    "            group.append(data[j])\n",
    "            break\n",
    "    i = j\n",
    "    groups.append(group)\n",
    "\n",
    "reduce(operator.mul, [find_arrangements(a) for a in groups], 1)"
   ]
  },
  {
   "cell_type": "code",
   "execution_count": null,
   "metadata": {},
   "outputs": [],
   "source": []
  }
 ],
 "metadata": {
  "kernelspec": {
   "display_name": "Python 3",
   "language": "python",
   "name": "python3"
  },
  "language_info": {
   "codemirror_mode": {
    "name": "ipython",
    "version": 3
   },
   "file_extension": ".py",
   "mimetype": "text/x-python",
   "name": "python",
   "nbconvert_exporter": "python",
   "pygments_lexer": "ipython3",
   "version": "3.6.7"
  }
 },
 "nbformat": 4,
 "nbformat_minor": 2
}
