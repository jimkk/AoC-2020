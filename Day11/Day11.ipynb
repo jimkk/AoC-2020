{
 "cells": [
  {
   "cell_type": "code",
   "execution_count": 212,
   "metadata": {},
   "outputs": [],
   "source": [
    "import copy\n",
    "import pprint\n",
    "import operator"
   ]
  },
  {
   "cell_type": "code",
   "execution_count": 213,
   "metadata": {},
   "outputs": [],
   "source": [
    "pp = pprint.PrettyPrinter()"
   ]
  },
  {
   "cell_type": "markdown",
   "metadata": {},
   "source": [
    "# Day 11"
   ]
  },
  {
   "cell_type": "markdown",
   "metadata": {},
   "source": [
    "## Part 1"
   ]
  },
  {
   "cell_type": "code",
   "execution_count": 214,
   "metadata": {},
   "outputs": [
    {
     "data": {
      "text/plain": [
       "['L', 'L', 'L', 'L', 'L', 'L', 'L', 'L', '.', 'L']"
      ]
     },
     "execution_count": 214,
     "metadata": {},
     "output_type": "execute_result"
    }
   ],
   "source": [
    "with open('input.txt', 'r') as file:\n",
    "    data = file.readlines()\n",
    "data = [list(a.strip('\\n')) for a in data]\n",
    "\n",
    "data[0][:10]\n"
   ]
  },
  {
   "cell_type": "code",
   "execution_count": 215,
   "metadata": {},
   "outputs": [],
   "source": [
    "def num_adjacents(l, pos):\n",
    "    if pos[0]-1 >= 0: \n",
    "        r_min = pos[0]-1\n",
    "    else: \n",
    "        r_min = 0 \n",
    "    if pos[0]+1 < len(l):\n",
    "        r_max = pos[0]+1\n",
    "    else:\n",
    "        r_max = len(l)-1\n",
    "    if pos[1]-1 >= 0:\n",
    "        c_min = pos[1]-1\n",
    "    else:\n",
    "        c_min = 0\n",
    "    if pos[1]+1 < len(l[pos[0]]):\n",
    "        c_max = pos[1]+1\n",
    "    else:\n",
    "        c_max = len(l[pos[0]])-1\n",
    "\n",
    "    count = 0\n",
    "    for i in range(r_min, r_max+1):\n",
    "        for j in range(c_min, c_max+1):\n",
    "            if (i,j) != pos:\n",
    "#                 print(i, j)\n",
    "                if l[i][j] == '#':\n",
    "                    count += 1\n",
    "    return count\n",
    "\n",
    "\n",
    "def apply_rules(l):\n",
    "    new_l = copy.deepcopy(l)\n",
    "    for i in range(len(l)):\n",
    "        for j in range(len(l[i])):\n",
    "            seat = l[i][j]\n",
    "            if seat == 'L':\n",
    "                # check if no occupied adjacents\n",
    "                a_seats = num_adjacents(l, (i,j))\n",
    "                if a_seats == 0:\n",
    "                    new_l[i][j] = '#'\n",
    "            elif seat == '#':\n",
    "                # check for >3 occupied adjacents\n",
    "                a_seats = num_adjacents(l, (i,j))\n",
    "                if a_seats > 3:\n",
    "                    new_l[i][j] = 'L'\n",
    "                \n",
    "    return new_l\n",
    "\n",
    "def same_list(l1, l2):\n",
    "    if len(l1) != len(l2) or len(l1[0]) != len(l2[0]):\n",
    "        return False\n",
    "    for i in range(len(l1)):\n",
    "        for j in range(len(l1[i])):\n",
    "            if l1[i][j] != l2[i][j]:\n",
    "                return False\n",
    "    return True\n",
    "\n",
    "def occupied_seats(l):\n",
    "    return sum([1 for a in l for b in a if b == '#'])"
   ]
  },
  {
   "cell_type": "code",
   "execution_count": 216,
   "metadata": {},
   "outputs": [
    {
     "name": "stdout",
     "output_type": "stream",
     "text": [
      "2412\n",
      "CPU times: user 2.36 s, sys: 0 ns, total: 2.36 s\n",
      "Wall time: 2.36 s\n"
     ]
    }
   ],
   "source": [
    "%%time\n",
    "s_grid = copy.deepcopy(data)\n",
    "found = False\n",
    "while not found:\n",
    "    f_grid = apply_rules(s_grid)\n",
    "    if same_list(s_grid, f_grid):\n",
    "        found = True\n",
    "    s_grid = f_grid\n",
    "print(occupied_seats(s_grid))"
   ]
  },
  {
   "cell_type": "markdown",
   "metadata": {},
   "source": [
    "## Part 2"
   ]
  },
  {
   "cell_type": "code",
   "execution_count": 217,
   "metadata": {},
   "outputs": [],
   "source": [
    "def num_adjacents(l, pos):\n",
    "    count = 0\n",
    "    directions = [(a,b) for a in range(-1,2) for b in range(-1,2)]\n",
    "    for d in directions:\n",
    "        if (d == (0,0)):\n",
    "            continue\n",
    "        p = tuple(map(operator.add, pos, d))\n",
    "#         print(p)\n",
    "        while p[0] >= 0 and p[0] < len(l) and p[1] >= 0 and p[1] < len(l[pos[0]]):\n",
    "            seat = l[p[0]][p[1]]\n",
    "            if seat == 'L':\n",
    "                break\n",
    "            if seat == '#':\n",
    "                count += 1\n",
    "                break\n",
    "            p = tuple(map(operator.add, p, d))\n",
    "#             print(p)\n",
    "    return count\n",
    "\n",
    "\n",
    "def apply_rules(l):\n",
    "    new_l = copy.deepcopy(l)\n",
    "    for i in range(len(l)):\n",
    "        for j in range(len(l[i])):\n",
    "            seat = l[i][j]\n",
    "            if seat == 'L':\n",
    "                # check if no occupied adjacents\n",
    "                a_seats = num_adjacents(l, (i,j))\n",
    "                if a_seats == 0:\n",
    "                    new_l[i][j] = '#'\n",
    "            elif seat == '#':\n",
    "                # check for >3 occupied adjacents\n",
    "                a_seats = num_adjacents(l, (i,j))\n",
    "                if a_seats > 4:\n",
    "                    new_l[i][j] = 'L'\n",
    "                \n",
    "    return new_l\n",
    "\n",
    "def same_list(l1, l2):\n",
    "    if len(l1) != len(l2) or len(l1[0]) != len(l2[0]):\n",
    "        return False\n",
    "    for i in range(len(l1)):\n",
    "        for j in range(len(l1[i])):\n",
    "            if l1[i][j] != l2[i][j]:\n",
    "                return False\n",
    "    return True\n",
    "\n",
    "def occupied_seats(l):\n",
    "    return sum([1 for a in l for b in a if b == '#'])"
   ]
  },
  {
   "cell_type": "code",
   "execution_count": 218,
   "metadata": {},
   "outputs": [
    {
     "name": "stdout",
     "output_type": "stream",
     "text": [
      "2176\n",
      "CPU times: user 7.91 s, sys: 0 ns, total: 7.91 s\n",
      "Wall time: 7.91 s\n"
     ]
    }
   ],
   "source": [
    "%%time\n",
    "s_grid = copy.deepcopy(data)\n",
    "found = False\n",
    "while not found:\n",
    "    f_grid = apply_rules(s_grid)\n",
    "#     pp.pprint(s_grid)\n",
    "#     pp.pprint(f_grid)\n",
    "#     print(num_adjacents(f_grid, (0,2)))\n",
    "    if same_list(s_grid, f_grid):\n",
    "        found = True\n",
    "    s_grid = f_grid\n",
    "print(occupied_seats(s_grid))"
   ]
  }
 ],
 "metadata": {
  "kernelspec": {
   "display_name": "Python 3",
   "language": "python",
   "name": "python3"
  },
  "language_info": {
   "codemirror_mode": {
    "name": "ipython",
    "version": 3
   },
   "file_extension": ".py",
   "mimetype": "text/x-python",
   "name": "python",
   "nbconvert_exporter": "python",
   "pygments_lexer": "ipython3",
   "version": "3.6.7"
  }
 },
 "nbformat": 4,
 "nbformat_minor": 2
}
