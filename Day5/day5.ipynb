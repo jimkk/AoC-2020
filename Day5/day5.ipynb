{
 "metadata": {
  "language_info": {
   "codemirror_mode": {
    "name": "ipython",
    "version": 3
   },
   "file_extension": ".py",
   "mimetype": "text/x-python",
   "name": "python",
   "nbconvert_exporter": "python",
   "pygments_lexer": "ipython3",
   "version": "3.6.5-final"
  },
  "orig_nbformat": 2,
  "kernelspec": {
   "name": "python3",
   "display_name": "Python 3"
  }
 },
 "nbformat": 4,
 "nbformat_minor": 2,
 "cells": [
  {
   "source": [
    "# Day 5"
   ],
   "cell_type": "markdown",
   "metadata": {}
  },
  {
   "cell_type": "code",
   "execution_count": 3,
   "metadata": {},
   "outputs": [
    {
     "output_type": "execute_result",
     "data": {
      "text/plain": [
       "['BBFBFFBRLL', 'FBFBFFBRRR', 'BBBFBFFLLR', 'BFBBFFBRRL', 'BBFFBBBRRL']"
      ]
     },
     "metadata": {},
     "execution_count": 3
    }
   ],
   "source": [
    "with open('input.txt', 'r') as file:\n",
    "    data = file.readlines()\n",
    "data = [d.strip('\\n') for d in data]\n",
    "data[0:5]"
   ]
  },
  {
   "cell_type": "code",
   "execution_count": 54,
   "metadata": {},
   "outputs": [],
   "source": [
    "def seat_number(s):\n",
    "    row_value = int(bin(int(''.join([str(['F','B'].index(c)) for c in s[:7]]), 2)),2)\n",
    "    col_value = int(bin(int(''.join([str(['L','R'].index(c)) for c in s[7:]]), 2)),2)\n",
    "    return row_value * 8 + col_value\n",
    "seat_numbers = [*map(seat_number, data)]"
   ]
  },
  {
   "source": [
    "## Part 1"
   ],
   "cell_type": "markdown",
   "metadata": {}
  },
  {
   "cell_type": "code",
   "execution_count": 55,
   "metadata": {},
   "outputs": [
    {
     "output_type": "stream",
     "name": "stdout",
     "text": [
      "933\n"
     ]
    }
   ],
   "source": [
    "print(max(seat_numbers))"
   ]
  },
  {
   "source": [
    "## Part 2"
   ],
   "cell_type": "markdown",
   "metadata": {}
  },
  {
   "cell_type": "code",
   "execution_count": 61,
   "metadata": {},
   "outputs": [
    {
     "output_type": "stream",
     "name": "stdout",
     "text": [
      "711\n"
     ]
    }
   ],
   "source": [
    "print([seat_numbers[i] + 1 for i in range(len(seat_numbers)-1) if seat_numbers[i] + 1 != seat_numbers[i+1]][0])"
   ]
  }
 ]
}