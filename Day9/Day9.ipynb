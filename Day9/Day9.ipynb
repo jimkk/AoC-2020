{
 "cells": [
  {
   "cell_type": "markdown",
   "metadata": {},
   "source": [
    "# Day 9"
   ]
  },
  {
   "cell_type": "code",
   "execution_count": 2,
   "metadata": {},
   "outputs": [
    {
     "data": {
      "text/plain": [
       "[33, 18, 22, 44, 49]"
      ]
     },
     "execution_count": 2,
     "metadata": {},
     "output_type": "execute_result"
    }
   ],
   "source": [
    "with open('input.txt') as file:\n",
    "    data = file.readlines()\n",
    "data = [int(a.strip('\\n')) for a in data]\n",
    "data[:5]"
   ]
  },
  {
   "cell_type": "markdown",
   "metadata": {},
   "source": [
    "## Part 1"
   ]
  },
  {
   "cell_type": "code",
   "execution_count": 3,
   "metadata": {},
   "outputs": [],
   "source": [
    "def canadd(l, n):\n",
    "    for i in range(len(l)):\n",
    "        for j in range(i, len(l)):\n",
    "            if l[i] + l[j] == n:\n",
    "                return True\n",
    "    return False"
   ]
  },
  {
   "cell_type": "code",
   "execution_count": 6,
   "metadata": {},
   "outputs": [
    {
     "name": "stdout",
     "output_type": "stream",
     "text": [
      "29221323 fails the check\n"
     ]
    }
   ],
   "source": [
    "solution = -1\n",
    "for i in range(25, len(data)):\n",
    "    if not canadd(data[i-25:i], data[i]):\n",
    "        solution = data[i]\n",
    "        break\n",
    "if solution == -1:\n",
    "    print('No invalid number found')\n",
    "else:\n",
    "    print(solution, 'fails the check')"
   ]
  },
  {
   "cell_type": "markdown",
   "metadata": {},
   "source": [
    "## Part 2"
   ]
  },
  {
   "cell_type": "code",
   "execution_count": 22,
   "metadata": {},
   "outputs": [],
   "source": [
    "def findcontiguousset(l, n):\n",
    "    for i in range(len(l)):\n",
    "        for j in range(i+1, len(l)+1):\n",
    "            if sum(data[i:j]) == n:\n",
    "                return (i,j)"
   ]
  },
  {
   "cell_type": "code",
   "execution_count": 26,
   "metadata": {},
   "outputs": [
    {
     "name": "stdout",
     "output_type": "stream",
     "text": [
      "4389369\n"
     ]
    }
   ],
   "source": [
    "contiguous_range = findcontiguousset(data, solution)\n",
    "print(min(data[contiguous_range[0]:contiguous_range[1]]) + max(data[contiguous_range[0]:contiguous_range[1]]))"
   ]
  }
 ],
 "metadata": {
  "kernelspec": {
   "display_name": "Python 3",
   "language": "python",
   "name": "python3"
  },
  "language_info": {
   "codemirror_mode": {
    "name": "ipython",
    "version": 3
   },
   "file_extension": ".py",
   "mimetype": "text/x-python",
   "name": "python",
   "nbconvert_exporter": "python",
   "pygments_lexer": "ipython3",
   "version": "3.6.7"
  }
 },
 "nbformat": 4,
 "nbformat_minor": 2
}
