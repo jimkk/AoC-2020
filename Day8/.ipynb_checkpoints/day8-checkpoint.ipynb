{
 "cells": [
  {
   "cell_type": "code",
   "execution_count": 106,
   "metadata": {},
   "outputs": [],
   "source": [
    "import copy"
   ]
  },
  {
   "cell_type": "markdown",
   "metadata": {},
   "source": [
    "# Day 8"
   ]
  },
  {
   "cell_type": "code",
   "execution_count": 107,
   "metadata": {},
   "outputs": [
    {
     "data": {
      "text/plain": [
       "[['acc', '-7', 0],\n",
       " ['acc', '+6', 0],\n",
       " ['acc', '+4', 0],\n",
       " ['nop', '+191', 0],\n",
       " ['jmp', '+199', 0]]"
      ]
     },
     "execution_count": 107,
     "metadata": {},
     "output_type": "execute_result"
    }
   ],
   "source": [
    "with open('input.txt', 'r') as file:\n",
    "    data = file.readlines()\n",
    "data = [a.strip('\\n').split(' ') + [0] for a in data]\n",
    "data[:5]"
   ]
  },
  {
   "cell_type": "markdown",
   "metadata": {},
   "source": [
    "## Part 1"
   ]
  },
  {
   "cell_type": "code",
   "execution_count": 108,
   "metadata": {},
   "outputs": [
    {
     "name": "stdout",
     "output_type": "stream",
     "text": [
      "2058\n"
     ]
    }
   ],
   "source": [
    "part1 = copy.deepcopy(data)\n",
    "acc = 0\n",
    "i = 0\n",
    "cycle_count = 0\n",
    "while not part1[i][2]:\n",
    "    part1[i][2] = cycle_count\n",
    "    cycle_count += 1\n",
    "    if part1[i][0] == 'acc':\n",
    "        exec('acc  = acc ' + part1[i][1])\n",
    "    elif part1[i][0] == 'jmp':\n",
    "        exec('i = i ' + part1[i][1])\n",
    "        continue\n",
    "    i += 1\n",
    "    \n",
    "print(acc)"
   ]
  },
  {
   "cell_type": "markdown",
   "metadata": {},
   "source": [
    "## Part 2"
   ]
  },
  {
   "cell_type": "code",
   "execution_count": 119,
   "metadata": {},
   "outputs": [],
   "source": [
    "def solvable(l):\n",
    "    l = copy.deepcopy(l)\n",
    "    acc = 0\n",
    "    i = 0\n",
    "    cycle_count = 0\n",
    "    while not l[i][2]:\n",
    "        l[i][2] = cycle_count\n",
    "        cycle_count += 1\n",
    "        if l[i][0] == 'acc':\n",
    "            acc = acc + int(l[i][1])\n",
    "            i += 1\n",
    "        elif l[i][0] == 'nop':\n",
    "            i += 1\n",
    "        elif l[i][0] == 'jmp':\n",
    "            i = i + int(l[i][1])\n",
    "        if i == len(l):\n",
    "            return acc\n",
    "        if i > len(l):\n",
    "            return False\n",
    "        \n",
    "    return False"
   ]
  },
  {
   "cell_type": "code",
   "execution_count": 120,
   "metadata": {},
   "outputs": [
    {
     "name": "stdout",
     "output_type": "stream",
     "text": [
      "286 ['jmp', '+165', 0]\n",
      "acc =  1000\n"
     ]
    }
   ],
   "source": [
    "found_solution = False\n",
    "possible_errors = [i for i in range(len(data)) if data[i][0] in ['nop', 'jmp']]\n",
    "\n",
    "while not found_solution:\n",
    "    part2 = copy.deepcopy(data)\n",
    "    error_i = possible_errors.pop(0)\n",
    "    if part2[error_i][0] == 'nop': part2[error_i][0] = 'jmp'\n",
    "    if part2[error_i][0] == 'jmp': part2[error_i][0] = 'nop'\n",
    "    found_solution = solvable(part2)\n",
    "print(error_i, data[error_i])\n",
    "print('acc = ', found_solution)\n",
    "       "
   ]
  }
 ],
 "metadata": {
  "kernelspec": {
   "display_name": "Python 3",
   "language": "python",
   "name": "python3"
  },
  "language_info": {
   "codemirror_mode": {
    "name": "ipython",
    "version": 3
   },
   "file_extension": ".py",
   "mimetype": "text/x-python",
   "name": "python",
   "nbconvert_exporter": "python",
   "pygments_lexer": "ipython3",
   "version": "3.6.7"
  }
 },
 "nbformat": 4,
 "nbformat_minor": 2
}
