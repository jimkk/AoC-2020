{
 "cells": [
  {
   "cell_type": "code",
   "execution_count": 134,
   "metadata": {},
   "outputs": [],
   "source": [
    "import re"
   ]
  },
  {
   "cell_type": "markdown",
   "metadata": {},
   "source": [
    "# Day 14"
   ]
  },
  {
   "cell_type": "code",
   "execution_count": 135,
   "metadata": {},
   "outputs": [
    {
     "name": "stdout",
     "output_type": "stream",
     "text": [
      "commands [(9227, 2018), (2743, 107216), (7335, 5498199), (62141, 28643), (10396, 615)]\n",
      "masks [(0, '01101001XXX000000111X1000X0000X11010'), (8, '0X0010X11100000010011011111010101XX1'), (16, '1100110XX10X10X00001X00010X10XX11111'), (20, 'X10010101XXX00X010010X1X011001001X1X'), (27, '1100X1100101000011011000010XX010111X')]\n"
     ]
    }
   ],
   "source": [
    "with open('input.txt', 'r') as file:\n",
    "    data = file.readlines()\n",
    "data = [a.strip('\\n') for a in data]\n",
    "mask_reg = r'mask = ([\\w]+)$'\n",
    "com_reg = r'^mem\\[([\\d]+)\\] = ([\\d]+)$'\n",
    "r = re.search(com_reg, data[0])\n",
    "commands = [(int(r.group(1)), int(r.group(2))) for a in data for r in [re.search(com_reg, a)] if r]\n",
    "masks = [(i, r.group(1)) for i, a in enumerate(data) for r in [re.search(mask_reg, a)] if r]\n",
    "print('commands', commands[:5])\n",
    "print('masks', masks[:5])\n",
    "for m in masks:\n",
    "    commands.insert(m[0], m[1])"
   ]
  },
  {
   "cell_type": "markdown",
   "metadata": {},
   "source": [
    "## Part 1"
   ]
  },
  {
   "cell_type": "code",
   "execution_count": 136,
   "metadata": {},
   "outputs": [],
   "source": [
    "def masking(m, i):\n",
    "    v = \"\"\n",
    "    i_bits = f'{i:b}'\n",
    "    i_bits = i_bits.zfill(len(m))\n",
    "    for i in range(len(m)):\n",
    "        if m[i] == '0':\n",
    "            v += '0'\n",
    "        elif m[i] == '1':\n",
    "            v += '1'\n",
    "        else:\n",
    "            if i < len(i_bits):\n",
    "                v += i_bits[i]\n",
    "            else:\n",
    "                v += '0'\n",
    "    return int(v, 2)"
   ]
  },
  {
   "cell_type": "code",
   "execution_count": 137,
   "metadata": {},
   "outputs": [],
   "source": [
    "d = {}\n",
    "mask = \"\"\n",
    "for command in commands:\n",
    "    # new mask\n",
    "    if isinstance(command, str):\n",
    "        mask = command\n",
    "    # mem set\n",
    "    else:\n",
    "        d[command[0]] = masking(mask, command[1])"
   ]
  },
  {
   "cell_type": "code",
   "execution_count": 138,
   "metadata": {},
   "outputs": [
    {
     "data": {
      "text/plain": [
       "15172047086292"
      ]
     },
     "execution_count": 138,
     "metadata": {},
     "output_type": "execute_result"
    }
   ],
   "source": [
    "sum(d.values())"
   ]
  },
  {
   "cell_type": "markdown",
   "metadata": {},
   "source": [
    "## Part 2"
   ]
  },
  {
   "cell_type": "code",
   "execution_count": 139,
   "metadata": {},
   "outputs": [],
   "source": [
    "def p2_maskings(m, i):\n",
    "    v = \"\"\n",
    "    i_bits = f'{i:b}'\n",
    "    i_bits = i_bits.zfill(len(m))\n",
    "    for i in range(len(m)):\n",
    "        if m[i] == '0':\n",
    "            if i < len(i_bits):\n",
    "                v += i_bits[i]\n",
    "            else:\n",
    "                v += '0'\n",
    "        else:\n",
    "            v += m[i]\n",
    "    return v\n",
    "def generate_masks(m):\n",
    "    if m.find('X') == -1:\n",
    "        return [m]\n",
    "    i = m.find('X') + 1\n",
    "    m1 = m[:i].replace('X', '0') + m[i:]\n",
    "    m2 = m[:i].replace('X', '1') + m[i:]\n",
    "    return generate_masks(m1) + generate_masks(m2)"
   ]
  },
  {
   "cell_type": "code",
   "execution_count": 140,
   "metadata": {},
   "outputs": [],
   "source": [
    "d = {}\n",
    "mask = ''\n",
    "for command in commands:\n",
    "    if isinstance(command, str):\n",
    "        mask = command\n",
    "    else:\n",
    "        for addr in generate_masks(p2_maskings(mask, command[0])):\n",
    "            d[int(addr, 2)] = command[1]"
   ]
  },
  {
   "cell_type": "code",
   "execution_count": 141,
   "metadata": {},
   "outputs": [
    {
     "data": {
      "text/plain": [
       "4197941339968"
      ]
     },
     "execution_count": 141,
     "metadata": {},
     "output_type": "execute_result"
    }
   ],
   "source": [
    "sum(d.values())"
   ]
  },
  {
   "cell_type": "code",
   "execution_count": null,
   "metadata": {},
   "outputs": [],
   "source": []
  }
 ],
 "metadata": {
  "kernelspec": {
   "display_name": "Python 3",
   "language": "python",
   "name": "python3"
  },
  "language_info": {
   "codemirror_mode": {
    "name": "ipython",
    "version": 3
   },
   "file_extension": ".py",
   "mimetype": "text/x-python",
   "name": "python",
   "nbconvert_exporter": "python",
   "pygments_lexer": "ipython3",
   "version": "3.9.1"
  }
 },
 "nbformat": 4,
 "nbformat_minor": 4
}
