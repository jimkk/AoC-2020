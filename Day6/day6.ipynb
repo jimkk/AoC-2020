{
 "metadata": {
  "language_info": {
   "codemirror_mode": {
    "name": "ipython",
    "version": 3
   },
   "file_extension": ".py",
   "mimetype": "text/x-python",
   "name": "python",
   "nbconvert_exporter": "python",
   "pygments_lexer": "ipython3",
   "version": "3.6.5-final"
  },
  "orig_nbformat": 2,
  "kernelspec": {
   "name": "python3",
   "display_name": "Python 3"
  }
 },
 "nbformat": 4,
 "nbformat_minor": 2,
 "cells": [
  {
   "source": [
    "# Day 6"
   ],
   "cell_type": "markdown",
   "metadata": {}
  },
  {
   "cell_type": "code",
   "execution_count": 12,
   "metadata": {},
   "outputs": [],
   "source": [
    "import re"
   ]
  },
  {
   "cell_type": "code",
   "execution_count": 89,
   "metadata": {},
   "outputs": [
    {
     "output_type": "execute_result",
     "data": {
      "text/plain": [
       "[['sukewbthnjdyv', 'sjubpeyvx', 'ouehaytkgzbv', 'qfueimylvcrb'],\n",
       " ['foyedvcm', 'yfodemvc', 'cydvomef', 'fdvmocey', 'yvefocmd']]"
      ]
     },
     "metadata": {},
     "execution_count": 89
    }
   ],
   "source": [
    "with open('input.txt', 'r') as file:\n",
    "    data = file.read()\n",
    "data = data.split('\\n\\n')\n",
    "data = [a.split('\\n') for a in data]\n",
    "data[:2]"
   ]
  },
  {
   "source": [
    "## Part 1"
   ],
   "cell_type": "markdown",
   "metadata": {}
  },
  {
   "cell_type": "code",
   "execution_count": 6,
   "metadata": {},
   "outputs": [
    {
     "output_type": "execute_result",
     "data": {
      "text/plain": [
       "6587"
      ]
     },
     "metadata": {},
     "execution_count": 6
    }
   ],
   "source": [
    "total_group_answers = sum([len(set(''.join(a))) for a in data])\n",
    "total_group_answers"
   ]
  },
  {
   "source": [
    "## Part 2"
   ],
   "cell_type": "markdown",
   "metadata": {}
  },
  {
   "cell_type": "code",
   "execution_count": 88,
   "metadata": {},
   "outputs": [
    {
     "output_type": "execute_result",
     "data": {
      "text/plain": [
       "3235"
      ]
     },
     "metadata": {},
     "execution_count": 88
    }
   ],
   "source": [
    "total_same_answers = sum([len(re.findall(r'(.)\\1{%d}' % (len(a) -1), ''.join(sorted(''.join(a))))) for a in data])\n",
    "total_same_answers"
   ]
  }
 ]
}